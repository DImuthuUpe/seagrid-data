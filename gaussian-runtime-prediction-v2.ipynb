{
 "cells": [
  {
   "cell_type": "code",
   "execution_count": 1,
   "metadata": {
    "collapsed": true
   },
   "outputs": [],
   "source": [
    "import pandas as pd\n",
    "import numpy as np\n",
    "import scipy as sp\n",
    "import matplotlib.pyplot as plt\n",
    "from sklearn import datasets, linear_model\n",
    "from sklearn.cross_validation import cross_val_predict"
   ]
  },
  {
   "cell_type": "code",
   "execution_count": 2,
   "metadata": {
    "collapsed": false
   },
   "outputs": [],
   "source": [
    "#loading csv file\n",
    "df = pd.read_csv('gaussian-runtime-v2.csv')"
   ]
  },
  {
   "cell_type": "code",
   "execution_count": 3,
   "metadata": {
    "collapsed": false
   },
   "outputs": [],
   "source": [
    "#df = df[(df.fopt != 0) | (df.freq != 0) | (df.fts != 0) | (df.popt != 0) | (df.sp != 0)]\n",
    "#df = df[(df.machine != 0) & (df.memory != 0) & (df.nproc != 0)]\n",
    "# jobs with runtime greater than 8 hours are long jobs\n",
    "#df['long_job'] = df.runtime > 28800\n",
    "#df['long_job'] = df.long_job.astype(int)\n",
    "#df = df.drop('runtime', 1)\n",
    "#df = df.drop('id', 1)"
   ]
  },
  {
   "cell_type": "code",
   "execution_count": 19,
   "metadata": {
    "collapsed": false
   },
   "outputs": [
    {
     "name": "stdout",
     "output_type": "stream",
     "text": [
      "235           Fcac-freq.trestles.sdsc.teragrid.org.2534632.150304\n",
      "242              l209hf.trestles.sdsc.teragrid.org.2442742.150112\n",
      "589                mj12.trestles.sdsc.teragrid.org.2499371.150217\n",
      "1024               mt14.trestles.sdsc.teragrid.org.2501540.150218\n",
      "1242               mmj1.trestles.sdsc.teragrid.org.2576077.150413\n",
      "1405                mt1.trestles.sdsc.teragrid.org.2500254.150217\n",
      "1733      l207b32-final.trestles.sdsc.teragrid.org.2511262.150221\n",
      "1991                mt5.trestles.sdsc.teragrid.org.2500407.150217\n",
      "3337               mj40.trestles.sdsc.teragrid.org.2576037.150413\n",
      "3412               mj42.trestles.sdsc.teragrid.org.2576041.150413\n",
      "3978    TS6PhOCH3u-freq.trestles.sdsc.teragrid.org.2536531.150306\n",
      "4280            l207hf1.trestles.sdsc.teragrid.org.2439869.150108\n",
      "4372          Ettser-b3.trestles.sdsc.teragrid.org.2439507.150107\n",
      "4643               mj17.trestles.sdsc.teragrid.org.2499380.150217\n",
      "Name: id, dtype: object\n"
     ]
    }
   ],
   "source": [
    "pd.set_option('max_colwidth', 800)\n",
    "print df[df.runtime > 4000000].id"
   ]
  },
  {
   "cell_type": "code",
   "execution_count": null,
   "metadata": {
    "collapsed": true
   },
   "outputs": [],
   "source": []
  }
 ],
 "metadata": {
  "kernelspec": {
   "display_name": "Python 2",
   "language": "python",
   "name": "python2"
  },
  "language_info": {
   "codemirror_mode": {
    "name": "ipython",
    "version": 2
   },
   "file_extension": ".py",
   "mimetype": "text/x-python",
   "name": "python",
   "nbconvert_exporter": "python",
   "pygments_lexer": "ipython2",
   "version": "2.7.10"
  }
 },
 "nbformat": 4,
 "nbformat_minor": 0
}
